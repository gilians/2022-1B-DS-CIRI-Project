{
 "cells": [
  {
   "cell_type": "code",
   "execution_count": null,
   "id": "e76db8f2-e90d-4ad5-9fdc-0e850d3c8fdf",
   "metadata": {},
   "outputs": [],
   "source": [
    "import torch\n",
    "import torch.nn as nn\n",
    "import torchvision\n",
    "import torchvision.transforms as transforms\n",
    "import matplotlib.pyplot as plt\n",
    "import numpy as np\n",
    "import pandas as pd\n",
    "import pickle\n",
    "import tqdm\n",
    "\n",
    "from torch.utils.data import DataLoader\n",
    "from sklearn.decomposition import PCA\n",
    "from sklearn.neighbors import KNeighborsClassifier\n",
    "from sklearn.metrics import accuracy_score"
   ]
  },
  {
   "cell_type": "markdown",
   "id": "cb296568-3ca8-4dfc-80bd-2f758ec71899",
   "metadata": {},
   "source": [
    "Set the device. Using CUDA on CUDA-enabled devices speeds up the use of convolutional networks significantly."
   ]
  },
  {
   "cell_type": "code",
   "execution_count": null,
   "id": "efd0421d-267f-4b2a-aebc-4fe56ac71c7a",
   "metadata": {},
   "outputs": [],
   "source": [
    "cuda_enabled = torch.cuda.is_available()\n",
    "device = torch.device(\"cuda:1\" if cuda_enabled else \"cpu\")"
   ]
  },
  {
   "cell_type": "markdown",
   "id": "65e59d07-8d93-40e6-a592-2ead337d4641",
   "metadata": {},
   "source": [
    "We create the descriptors through transfer learning. We remove the last fully-connected (classification) layers of pre-trained models and use the output of the convolutional part of the respective model as descriptors. We do this for:\n",
    "\n",
    "- VGG16\n",
    "\n",
    "These models were chosen because of ... **TODO: List reasons for choosing models**"
   ]
  },
  {
   "cell_type": "markdown",
   "id": "6e5cdc87-ce3c-4282-baa1-126698822d47",
   "metadata": {},
   "source": [
    "## Load datasets"
   ]
  },
  {
   "cell_type": "code",
   "execution_count": 2,
   "id": "797aa699-6e78-43eb-834b-03e92074a1b4",
   "metadata": {},
   "outputs": [
    {
     "ename": "NameError",
     "evalue": "name 'np' is not defined",
     "output_type": "error",
     "traceback": [
      "\u001b[0;31m---------------------------------------------------------------------------\u001b[0m",
      "\u001b[0;31mNameError\u001b[0m                                 Traceback (most recent call last)",
      "Cell \u001b[0;32mIn[2], line 2\u001b[0m\n\u001b[1;32m      1\u001b[0m \u001b[38;5;66;03m# TODO: Actually get a numpy array of the targets\u001b[39;00m\n\u001b[0;32m----> 2\u001b[0m targets_train \u001b[38;5;241m=\u001b[39m \u001b[43mnp\u001b[49m\u001b[38;5;241m.\u001b[39mzeros((\u001b[38;5;241m1\u001b[39m, \u001b[38;5;241m1\u001b[39m))\n\u001b[1;32m      3\u001b[0m targets_test \u001b[38;5;241m=\u001b[39m np\u001b[38;5;241m.\u001b[39mzeros((\u001b[38;5;241m1\u001b[39m, \u001b[38;5;241m1\u001b[39m))\n",
      "\u001b[0;31mNameError\u001b[0m: name 'np' is not defined"
     ]
    }
   ],
   "source": [
    "# TODO: Obtain the number of classes\n",
    "n_classes = 0\n",
    "\n",
    "# TODO: Actually get a numpy array of data and targets\n",
    "data_train = np.zeros((1, 1))\n",
    "data_test = np.zeros((1, 1))\n",
    "targets_train = np.zeros((1, 1))\n",
    "targets_test = np.zeros((1, 1))"
   ]
  },
  {
   "cell_type": "markdown",
   "id": "51b690f4-81ea-4dba-a7c3-e93b84cf3e9a",
   "metadata": {},
   "source": [
    "## Visualise datasets"
   ]
  },
  {
   "cell_type": "markdown",
   "id": "ac7d3e30-83a5-48f7-a2b3-db5986065c8b",
   "metadata": {},
   "source": [
    "## Initialize models\n",
    "\n",
    "### VGG16"
   ]
  },
  {
   "cell_type": "code",
   "execution_count": null,
   "id": "a1beeee9-c082-4f38-999e-aff07ceeb244",
   "metadata": {},
   "outputs": [],
   "source": [
    "model_vgg16 = torchvision.models.vgg16(weights=\"DEFAULT\")\n",
    "\n",
    "for param in model_vgg16.parameters():\n",
    "    # As the model will not be trained, gradients are not required. Disabling\n",
    "    # them speeds up performance.\n",
    "    param.requires_grad = False\n",
    "\n",
    "# Set model to evaluation mode for reasons\n",
    "# TODO: Check why model should be set to evaluation mode\n",
    "model_vgg16.eval()\n",
    "\n",
    "# Empty CUDA cache to prevent memory issues\n",
    "if cuda_enabled:\n",
    "    torch.cuda.empty_cache()\n",
    "\n",
    "# Replace VGG16 classifier with identity layer to allow descriptor extraction\n",
    "model_vgg16.classifier = nn.Identity()\n",
    "\n",
    "# Move model to previously set device, speeding up performance if CUDA-enabled\n",
    "model_vgg16 = model_vgg16.to(device)"
   ]
  },
  {
   "cell_type": "markdown",
   "id": "719e8a9c-b5ff-47fd-8ec2-724dd95a8288",
   "metadata": {},
   "source": [
    "## Baseline\n",
    "\n",
    "### Obtain image descriptors"
   ]
  },
  {
   "cell_type": "code",
   "execution_count": null,
   "id": "10d78568-4e8d-4331-a6d5-b1f335a49d4c",
   "metadata": {},
   "outputs": [],
   "source": [
    "def get_descriptors_from_model(model, dataloader):\n",
    "    \"\"\"Returns the output of the provided model for all items in the dataloader.\"\"\"\n",
    "    outputs = []\n",
    "\n",
    "    # Improve performance by disabling unnecessary gradient calculation\n",
    "    with torch.no_grad():\n",
    "        for data, targets in tqdm(dataloader):\n",
    "            output = model(data).detach()\n",
    "            outputs.extend(output)\n",
    "\n",
    "    return outputs\n",
    "\n",
    "\n",
    "def transform_descriptors_to_numpy(descriptors):\n",
    "    \"\"\"Returns a numpy array derived from a provided list of tensors.\"\"\"\n",
    "    return np.array([descriptor.cpu().numpy() for descriptor in descriptors])"
   ]
  },
  {
   "cell_type": "code",
   "execution_count": null,
   "id": "ce5261d8-864d-4447-b764-66d9eec1759e",
   "metadata": {},
   "outputs": [],
   "source": [
    "# TODO: Actually get descriptors for data\n",
    "descriptors_train = np.zeros((1, 1))\n",
    "descriptors_test = np.zeros((1, 1))"
   ]
  },
  {
   "cell_type": "markdown",
   "id": "4d79ee2b-33b2-4974-ac50-950fe278574c",
   "metadata": {},
   "source": [
    "### Perform k-nearest neighbors (kNN) classification"
   ]
  },
  {
   "cell_type": "markdown",
   "id": "29855874-74f0-46be-81f8-8565f6a85305",
   "metadata": {},
   "source": [
    "First, we perform the predictions."
   ]
  },
  {
   "cell_type": "code",
   "execution_count": null,
   "id": "c9351e18-26ce-42fe-825a-49fd820ef082",
   "metadata": {},
   "outputs": [],
   "source": [
    "def get_knn_classifiers_for_neighbors(n_neighbors_list, data, targets):\n",
    "    classifiers = {}\n",
    "    for n_neighbors in n_neighbors_list:\n",
    "        classifier = KNeighborsClassifier(n_neighbors=n_neighbors).fit(data,\n",
    "                                                                       targets)\n",
    "        classifiers[n_neighbors] = classifier\n",
    "    return classifiers\n",
    "\n",
    "\n",
    "def get_knn_classifiers_predictions(knn_classifiers, data):\n",
    "    predictions = []\n",
    "    for classifier in tqdm(knn_classifiers):\n",
    "        predictions.append(classifier.predict(data))"
   ]
  },
  {
   "cell_type": "markdown",
   "id": "364a617b-36fd-4f1e-87b2-b7cf6df1ebae",
   "metadata": {},
   "source": [
    "First, we create KNN classifiers for all numbers of neighbors we would like to assess."
   ]
  },
  {
   "cell_type": "code",
   "execution_count": null,
   "id": "043f3b66-e29a-4b08-a633-f61452a18750",
   "metadata": {},
   "outputs": [],
   "source": [
    "n_neighbors_list = [2, 5, 10, 15]\n",
    "classifiers = get_knn_classifiers_for_neighbors(n_neighbors_list,\n",
    "                                                descriptors_train,\n",
    "                                                targets_train)"
   ]
  },
  {
   "cell_type": "markdown",
   "id": "9cb5f8a0-ad98-4be9-a9ce-5cb217241edd",
   "metadata": {},
   "source": [
    "For each of the previously created kNN classifiers, we obtain the predictions for both the training data and the test data. This allows an assessment of the performance of the classifiers."
   ]
  },
  {
   "cell_type": "code",
   "execution_count": null,
   "id": "d01f18d6-854f-4dd6-a136-1a96e1dc1811",
   "metadata": {},
   "outputs": [],
   "source": [
    "predictions_train_list = get_knn_classifiers_predictions(classifiers, descriptors_train)\n",
    "predictions_test_list = get_knn_classifiers_predictions(classifiers, descriptors_test)"
   ]
  },
  {
   "cell_type": "markdown",
   "id": "043e854e-af71-4d96-acb9-7488c18aff1e",
   "metadata": {},
   "source": [
    "We now assess the accuracy of the predictions of each classifier"
   ]
  },
  {
   "cell_type": "code",
   "execution_count": null,
   "id": "c2620f4a-313a-442d-8f7f-a7fa2ca561c9",
   "metadata": {},
   "outputs": [],
   "source": [
    "train_accuracies_per_n_neighbors = []\n",
    "for i, predictions in enumerate(predictions_train_list):\n",
    "    accuracy = accuracy_score(targets_train, predictions)\n",
    "    train_accuracies_per_n_neighbors.append((n_neighbors_list[i], accuracy))\n",
    "\n",
    "test_accuracies_per_n_neighbors = {}\n",
    "for i, predictions in enumerate(predictions_test_list):\n",
    "    accuracy = accuracy_score(targets_train, predictions)\n",
    "    test_accuracies_per_n_neighbors.append((n_neighbors_list[i], accuracy))"
   ]
  },
  {
   "cell_type": "code",
   "execution_count": null,
   "id": "0b9221e5-6d6f-4e89-8906-5ac61f8bdefe",
   "metadata": {},
   "outputs": [],
   "source": [
    "pca_training = PCA(n_components=2).fit_transform(descriptors_train)\n",
    "pca_testing = PCA(n_components=2).fit_transform(descriptors_test)"
   ]
  },
  {
   "cell_type": "code",
   "execution_count": null,
   "id": "b6ce636b-2391-4089-894f-fefc16d53430",
   "metadata": {},
   "outputs": [],
   "source": [
    "def plot_predictions_against_targets(data,\n",
    "                                     predictions,\n",
    "                                     targets,\n",
    "                                     n_classes,\n",
    "                                     cmap=None):\n",
    "    \"\"\"Draws a scatter plot of two-dimensional data which highlights\n",
    "    differences between targets and predictions through distinct edge and fill\n",
    "    colors.\"\"\"\n",
    "\n",
    "    if (cmap is None):\n",
    "        cmap = plt.get_cmap(\"rainbow\")\n",
    "\n",
    "    colors_target = cmap(targets / n_classes)\n",
    "    colors_predictions = cmap(predictions / n_classes)\n",
    "\n",
    "    fig, ax = plt.subplots()\n",
    "    # Plot targets (ground truth) with fill color representing target class\n",
    "    ax.scatter(data[:, 0],\n",
    "               data[:, 1],\n",
    "               facecolors=colors_target)\n",
    "    \n",
    "    # Plot predictions with edge color representing predicted class\n",
    "    ax.scatter(data[:, 0],\n",
    "               data[:, 1],\n",
    "               edgecolors=colors_predictions)\n",
    "\n",
    "    return (fig, ax)"
   ]
  },
  {
   "cell_type": "code",
   "execution_count": null,
   "id": "cc3ca379-ae94-490e-b441-2ad91369dd5d",
   "metadata": {},
   "outputs": [],
   "source": [
    "_, ax_train_scatter = plot_predictions_against_targets(pca_training,\n",
    "                                                       best_predictions_train,\n",
    "                                                       targets_train,\n",
    "                                                       n_classes)\n",
    "ax_train_scatter.set_title(\"Two-component PCA, training data\")\n",
    "\n",
    "_, ax_test_scatter = plot_predictions_against_targets(pca_testing,\n",
    "                                                      best_predictions_test,\n",
    "                                                      targets_test,\n",
    "                                                      n_classes)\n",
    "ax_test_scatter.set_title(\"Two-component PCA, test data\")"
   ]
  }
 ],
 "metadata": {
  "kernelspec": {
   "display_name": "DS-CIRI-conda",
   "language": "python",
   "name": "ds-ciri-conda"
  },
  "language_info": {
   "codemirror_mode": {
    "name": "ipython",
    "version": 3
   },
   "file_extension": ".py",
   "mimetype": "text/x-python",
   "name": "python",
   "nbconvert_exporter": "python",
   "pygments_lexer": "ipython3",
   "version": "3.10.8"
  }
 },
 "nbformat": 4,
 "nbformat_minor": 5
}
